{
  "nbformat": 4,
  "nbformat_minor": 0,
  "metadata": {
    "colab": {
      "provenance": [],
      "authorship_tag": "ABX9TyM8S4vw71Rsh7bNrzWI8xsH",
      "include_colab_link": true
    },
    "kernelspec": {
      "name": "python3",
      "display_name": "Python 3"
    },
    "language_info": {
      "name": "python"
    }
  },
  "cells": [
    {
      "cell_type": "markdown",
      "metadata": {
        "id": "view-in-github",
        "colab_type": "text"
      },
      "source": [
        "<a href=\"https://colab.research.google.com/github/Angelo-Mascarenhas123/Modulos-e-Pacotes/blob/main/M%C3%B3dulos_e_Pacotes.ipynb\" target=\"_parent\"><img src=\"https://colab.research.google.com/assets/colab-badge.svg\" alt=\"Open In Colab\"/></a>"
      ]
    },
    {
      "cell_type": "code",
      "execution_count": 7,
      "metadata": {
        "colab": {
          "base_uri": "https://localhost:8080/"
        },
        "id": "fNXsph7aKdjm",
        "outputId": "519d349f-b81c-4a4c-d594-79434c0635e2"
      },
      "outputs": [
        {
          "output_type": "execute_result",
          "data": {
            "text/plain": [
              "[1, 2, 3, 4, 5, 6, 7, 8, 9, 10, 11, 12, 13, 14]"
            ]
          },
          "metadata": {},
          "execution_count": 7
        }
      ],
      "source": [
        "#1- Importe o módulo statistics e crie uma lista com 14 elementos contendo números em ordem crescente.\n",
        "import statistics\n",
        "\n",
        "lista = [1, 2, 3, 4, 5, 6, 7, 8, 9, 10, 11, 12, 13, 14]\n",
        "lista"
      ]
    },
    {
      "cell_type": "code",
      "source": [
        "#2- Calcule a média e a mediana dos valores usando o módulo completo (import statistics).\n",
        "a = statistics.mean(lista)\n",
        "b = statistics.median(lista)\n",
        "a\n",
        "b"
      ],
      "metadata": {
        "colab": {
          "base_uri": "https://localhost:8080/"
        },
        "id": "MbXH1PWQLLe2",
        "outputId": "83523340-c08f-4895-aefc-894392410e48"
      },
      "execution_count": 8,
      "outputs": [
        {
          "output_type": "execute_result",
          "data": {
            "text/plain": [
              "7.5"
            ]
          },
          "metadata": {},
          "execution_count": 8
        }
      ]
    },
    {
      "cell_type": "code",
      "source": [
        "#3- Use um alias (apelido) para o módulo statistics e refaça os cálculos. Dica: import statistics as st\n",
        "import statistics as st\n",
        "lista = [1, 2, 3, 4, 5, 6, 7, 8, 9, 10, 11, 12, 13, 14]\n",
        "a = statistics.mean(lista)\n",
        "b = statistics.median(lista)\n",
        "a\n",
        "b"
      ],
      "metadata": {
        "colab": {
          "base_uri": "https://localhost:8080/"
        },
        "id": "NRwV4lHXLqP5",
        "outputId": "13f0796a-8be2-4848-8160-4c3b0095721d"
      },
      "execution_count": 9,
      "outputs": [
        {
          "output_type": "execute_result",
          "data": {
            "text/plain": [
              "7.5"
            ]
          },
          "metadata": {},
          "execution_count": 9
        }
      ]
    },
    {
      "cell_type": "code",
      "source": [
        "#4- Agora, importe apenas as funções mean e median do módulo statistics e refaça os cálculos.\n",
        "from statistics import mean, median\n",
        "lista = [1, 2, 3, 4, 5, 6, 7, 8, 9, 10, 11, 12, 13, 14]\n",
        "a = statistics.mean(lista)\n",
        "b = statistics.median(lista)\n",
        "a\n",
        "b"
      ],
      "metadata": {
        "colab": {
          "base_uri": "https://localhost:8080/"
        },
        "id": "gFt6pW8wMIVf",
        "outputId": "0cd85a52-ef69-4690-accf-edc9628eaed3"
      },
      "execution_count": 10,
      "outputs": [
        {
          "output_type": "execute_result",
          "data": {
            "text/plain": [
              "7.5"
            ]
          },
          "metadata": {},
          "execution_count": 10
        }
      ]
    },
    {
      "cell_type": "code",
      "source": [
        "#5- Por fim, importe todas as funções do módulo statistics e calcule novamente a média e a mediana da lista\n",
        "from statistics import *\n",
        "lista = [1, 2, 3, 4, 5, 6, 7, 8, 9, 10, 11, 12, 13, 14]\n",
        "a = statistics.mean(lista)\n",
        "b = statistics.median(lista)\n",
        "a\n",
        "b"
      ],
      "metadata": {
        "colab": {
          "base_uri": "https://localhost:8080/"
        },
        "id": "q7vBY4OAMmTH",
        "outputId": "901b0081-f917-41bf-edec-99462bc46cbd"
      },
      "execution_count": 11,
      "outputs": [
        {
          "output_type": "execute_result",
          "data": {
            "text/plain": [
              "7.5"
            ]
          },
          "metadata": {},
          "execution_count": 11
        }
      ]
    },
    {
      "cell_type": "code",
      "source": [
        "lista"
      ],
      "metadata": {
        "colab": {
          "base_uri": "https://localhost:8080/"
        },
        "id": "wOQ5Gcp9NhdT",
        "outputId": "56d66369-c70d-4d2b-98c3-a518e61413b4"
      },
      "execution_count": 12,
      "outputs": [
        {
          "output_type": "execute_result",
          "data": {
            "text/plain": [
              "[1, 2, 3, 4, 5, 6, 7, 8, 9, 10, 11, 12, 13, 14]"
            ]
          },
          "metadata": {},
          "execution_count": 12
        }
      ]
    }
  ]
}